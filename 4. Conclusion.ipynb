{
 "cells": [
  {
   "cell_type": "markdown",
   "id": "3c5220cd",
   "metadata": {},
   "source": [
    "<img src=\"Logo.png\" width=\"100\" align=\"left\"/> \n",
    "\n",
    "# <center> Unit 3 Project </center>\n",
    "#  <center> Fourth section : Conclusion </center>\n",
    "\n",
    "\n",
    "In this notebook you will be comparing the results of the two methods we used on the created testset. That is said: you will compare the results to the clustering with the results of the classification on the same test test and provide insights and explanation about the observed behaviour."
   ]
  },
  {
   "cell_type": "markdown",
   "id": "d7999942",
   "metadata": {},
   "source": [
    "For this final task you will need to : \n",
    "1. Load the testset data that you created all along this project \n",
    "2. For each cluster provide percentages about each actual/ predicted class contained with this cluster. Eg : cluster N°2 : is made of ( 50% class 2 and 50% class 3 ) from actual labels and ( 40 % predicted class 2 and 40% predicted class 3 + 20% predicted class 1) \n",
    "The above is just an example and is far away from the actual situation.\n",
    "\n",
    "3. Explain the behaviour and provide isights about it "
   ]
  },
  {
   "cell_type": "markdown",
   "id": "5ce7ef74",
   "metadata": {},
   "source": [
    "## 1.  Load the data: "
   ]
  },
  {
   "cell_type": "code",
   "execution_count": 132,
   "id": "db5d912f",
   "metadata": {},
   "outputs": [],
   "source": [
    "import pandas as pd "
   ]
  },
  {
   "cell_type": "code",
   "execution_count": 133,
   "id": "20df3761",
   "metadata": {},
   "outputs": [],
   "source": [
    "# To-Do : load the test summary data \n",
    "df = pd.read_csv('test_summary.csv')"
   ]
  },
  {
   "cell_type": "code",
   "execution_count": 134,
   "id": "d4c27a63",
   "metadata": {},
   "outputs": [
    {
     "data": {
      "text/html": [
       "<div>\n",
       "<style scoped>\n",
       "    .dataframe tbody tr th:only-of-type {\n",
       "        vertical-align: middle;\n",
       "    }\n",
       "\n",
       "    .dataframe tbody tr th {\n",
       "        vertical-align: top;\n",
       "    }\n",
       "\n",
       "    .dataframe thead th {\n",
       "        text-align: right;\n",
       "    }\n",
       "</style>\n",
       "<table border=\"1\" class=\"dataframe\">\n",
       "  <thead>\n",
       "    <tr style=\"text-align: right;\">\n",
       "      <th></th>\n",
       "      <th>ID</th>\n",
       "      <th>Age</th>\n",
       "      <th>Sex</th>\n",
       "      <th>ALB</th>\n",
       "      <th>ALP</th>\n",
       "      <th>ALT</th>\n",
       "      <th>AST</th>\n",
       "      <th>BIL</th>\n",
       "      <th>CHE</th>\n",
       "      <th>CHOL</th>\n",
       "      <th>CREA</th>\n",
       "      <th>GGT</th>\n",
       "      <th>PROT</th>\n",
       "      <th>cluster</th>\n",
       "      <th>Category</th>\n",
       "      <th>Predicted_class</th>\n",
       "    </tr>\n",
       "  </thead>\n",
       "  <tbody>\n",
       "    <tr>\n",
       "      <th>0</th>\n",
       "      <td>249</td>\n",
       "      <td>55</td>\n",
       "      <td>1</td>\n",
       "      <td>28.1</td>\n",
       "      <td>65.5</td>\n",
       "      <td>16.6</td>\n",
       "      <td>17.5</td>\n",
       "      <td>2.8</td>\n",
       "      <td>5.58</td>\n",
       "      <td>4.39</td>\n",
       "      <td>65.0</td>\n",
       "      <td>26.2</td>\n",
       "      <td>62.4</td>\n",
       "      <td>3</td>\n",
       "      <td>0</td>\n",
       "      <td>0</td>\n",
       "    </tr>\n",
       "    <tr>\n",
       "      <th>1</th>\n",
       "      <td>366</td>\n",
       "      <td>39</td>\n",
       "      <td>0</td>\n",
       "      <td>31.4</td>\n",
       "      <td>106.0</td>\n",
       "      <td>16.6</td>\n",
       "      <td>17.0</td>\n",
       "      <td>2.4</td>\n",
       "      <td>5.95</td>\n",
       "      <td>5.30</td>\n",
       "      <td>68.0</td>\n",
       "      <td>22.9</td>\n",
       "      <td>72.3</td>\n",
       "      <td>3</td>\n",
       "      <td>0</td>\n",
       "      <td>0</td>\n",
       "    </tr>\n",
       "    <tr>\n",
       "      <th>2</th>\n",
       "      <td>433</td>\n",
       "      <td>48</td>\n",
       "      <td>0</td>\n",
       "      <td>43.7</td>\n",
       "      <td>50.1</td>\n",
       "      <td>17.3</td>\n",
       "      <td>26.3</td>\n",
       "      <td>8.1</td>\n",
       "      <td>8.15</td>\n",
       "      <td>5.38</td>\n",
       "      <td>64.0</td>\n",
       "      <td>13.4</td>\n",
       "      <td>73.1</td>\n",
       "      <td>3</td>\n",
       "      <td>0</td>\n",
       "      <td>0</td>\n",
       "    </tr>\n",
       "    <tr>\n",
       "      <th>3</th>\n",
       "      <td>611</td>\n",
       "      <td>62</td>\n",
       "      <td>0</td>\n",
       "      <td>32.0</td>\n",
       "      <td>416.6</td>\n",
       "      <td>5.9</td>\n",
       "      <td>110.3</td>\n",
       "      <td>50.0</td>\n",
       "      <td>5.57</td>\n",
       "      <td>6.30</td>\n",
       "      <td>55.7</td>\n",
       "      <td>650.9</td>\n",
       "      <td>68.5</td>\n",
       "      <td>2</td>\n",
       "      <td>4</td>\n",
       "      <td>4</td>\n",
       "    </tr>\n",
       "    <tr>\n",
       "      <th>4</th>\n",
       "      <td>133</td>\n",
       "      <td>44</td>\n",
       "      <td>1</td>\n",
       "      <td>35.5</td>\n",
       "      <td>81.7</td>\n",
       "      <td>27.5</td>\n",
       "      <td>29.5</td>\n",
       "      <td>6.4</td>\n",
       "      <td>8.81</td>\n",
       "      <td>6.65</td>\n",
       "      <td>83.0</td>\n",
       "      <td>24.1</td>\n",
       "      <td>68.0</td>\n",
       "      <td>3</td>\n",
       "      <td>0</td>\n",
       "      <td>0</td>\n",
       "    </tr>\n",
       "  </tbody>\n",
       "</table>\n",
       "</div>"
      ],
      "text/plain": [
       "    ID  Age  Sex   ALB    ALP   ALT    AST   BIL   CHE  CHOL  CREA    GGT  \\\n",
       "0  249   55    1  28.1   65.5  16.6   17.5   2.8  5.58  4.39  65.0   26.2   \n",
       "1  366   39    0  31.4  106.0  16.6   17.0   2.4  5.95  5.30  68.0   22.9   \n",
       "2  433   48    0  43.7   50.1  17.3   26.3   8.1  8.15  5.38  64.0   13.4   \n",
       "3  611   62    0  32.0  416.6   5.9  110.3  50.0  5.57  6.30  55.7  650.9   \n",
       "4  133   44    1  35.5   81.7  27.5   29.5   6.4  8.81  6.65  83.0   24.1   \n",
       "\n",
       "   PROT  cluster  Category  Predicted_class  \n",
       "0  62.4        3         0                0  \n",
       "1  72.3        3         0                0  \n",
       "2  73.1        3         0                0  \n",
       "3  68.5        2         4                4  \n",
       "4  68.0        3         0                0  "
      ]
     },
     "execution_count": 134,
     "metadata": {},
     "output_type": "execute_result"
    }
   ],
   "source": [
    "df.head()"
   ]
  },
  {
   "cell_type": "markdown",
   "id": "5a876830",
   "metadata": {},
   "source": [
    "## 2. Analysis: "
   ]
  },
  {
   "cell_type": "code",
   "execution_count": 109,
   "id": "99732f39",
   "metadata": {},
   "outputs": [],
   "source": [
    "# To-Do create a summary about each cluster : \n",
    "# percentages of each target (actual Category) within each cluster \n",
    "# + Percentages of each predicted class within the cluster \n",
    "# results should be something like : \n",
    "# For clusterk : {'true_class0_percetage': 0.0,\n",
    "#                 'true_class1_percetage': 0.0,\n",
    "#                  'true_class2_percetage': 0.0,\n",
    "#                   'true_class3_percetage': 0.0,\n",
    "#                   'true_class4_percetage': 0.0,\n",
    "#                   'predicted_class0_percetage': 0.0,\n",
    "#                   'predicted_class1_percetage': 0.0,\n",
    "#                   'predicted_class2_percetage': 0.0,\n",
    "#                   'predicted_class3_percetage': 0.0,\n",
    "#                    'predicted_class4_percetage': 0.0}"
   ]
  },
  {
   "cell_type": "code",
   "execution_count": 145,
   "id": "1d4c1118",
   "metadata": {},
   "outputs": [],
   "source": [
    "results = {}\n",
    "\n",
    "for cluster in df['cluster'].unique():\n",
    "    cluster_df = df[df['cluster'] == cluster]\n",
    "    count_cluster = len(cluster_df)\n",
    "\n",
    "    result = {}\n",
    "\n",
    "    true_count = cluster_df['Category'].value_counts(normalize = True)\n",
    "    pred_count = cluster_df['Predicted_class'].value_counts(normalize = True)\n",
    "\n",
    "    for category in range(0,5):\n",
    "        label = f'true_class{category}_percentage'\n",
    "        result[label] =(true_count.get(category,0)) *100\n",
    "    \n",
    "    for category in range(0,5):\n",
    "        label = f'predicted_class{category}_percentage'\n",
    "        result[label] = (pred_count.get(category,0)) *100\n",
    "\n",
    "    results[f'cluster_{cluster}'] = result"
   ]
  },
  {
   "cell_type": "code",
   "execution_count": 148,
   "id": "5ac11bc6",
   "metadata": {},
   "outputs": [
    {
     "data": {
      "text/plain": [
       "dict_keys(['cluster_3', 'cluster_2', 'cluster_4', 'cluster_1'])"
      ]
     },
     "execution_count": 148,
     "metadata": {},
     "output_type": "execute_result"
    }
   ],
   "source": [
    "results.keys()"
   ]
  },
  {
   "cell_type": "code",
   "execution_count": 147,
   "id": "44730d49",
   "metadata": {},
   "outputs": [
    {
     "data": {
      "text/html": [
       "<div>\n",
       "<style scoped>\n",
       "    .dataframe tbody tr th:only-of-type {\n",
       "        vertical-align: middle;\n",
       "    }\n",
       "\n",
       "    .dataframe tbody tr th {\n",
       "        vertical-align: top;\n",
       "    }\n",
       "\n",
       "    .dataframe thead th {\n",
       "        text-align: right;\n",
       "    }\n",
       "</style>\n",
       "<table border=\"1\" class=\"dataframe\">\n",
       "  <thead>\n",
       "    <tr style=\"text-align: right;\">\n",
       "      <th></th>\n",
       "      <th>ID</th>\n",
       "      <th>Age</th>\n",
       "      <th>Sex</th>\n",
       "      <th>ALB</th>\n",
       "      <th>ALP</th>\n",
       "      <th>ALT</th>\n",
       "      <th>AST</th>\n",
       "      <th>BIL</th>\n",
       "      <th>CHE</th>\n",
       "      <th>CHOL</th>\n",
       "      <th>CREA</th>\n",
       "      <th>GGT</th>\n",
       "      <th>PROT</th>\n",
       "      <th>cluster</th>\n",
       "      <th>Category</th>\n",
       "      <th>Predicted_class</th>\n",
       "    </tr>\n",
       "  </thead>\n",
       "  <tbody>\n",
       "  </tbody>\n",
       "</table>\n",
       "</div>"
      ],
      "text/plain": [
       "Empty DataFrame\n",
       "Columns: [ID, Age, Sex, ALB, ALP, ALT, AST, BIL, CHE, CHOL, CREA, GGT, PROT, cluster, Category, Predicted_class]\n",
       "Index: []"
      ]
     },
     "execution_count": 147,
     "metadata": {},
     "output_type": "execute_result"
    }
   ],
   "source": [
    "cluster_0_df = df[df['cluster'] == 0]\n",
    "cluster_0_df"
   ]
  },
  {
   "cell_type": "code",
   "execution_count": 144,
   "id": "8feeba8f",
   "metadata": {},
   "outputs": [
    {
     "data": {
      "text/plain": [
       "cluster\n",
       "3    83\n",
       "4    34\n",
       "2     4\n",
       "1     2\n",
       "Name: count, dtype: int64"
      ]
     },
     "execution_count": 144,
     "metadata": {},
     "output_type": "execute_result"
    }
   ],
   "source": [
    "clust_count = df['cluster'].value_counts()\n",
    "clust_count"
   ]
  },
  {
   "cell_type": "markdown",
   "id": "65b6139d",
   "metadata": {},
   "source": [
    "## 3. Explanations and isights :"
   ]
  },
  {
   "cell_type": "code",
   "execution_count": 1,
   "id": "cecd4211",
   "metadata": {},
   "outputs": [],
   "source": [
    "# in this section you should display analysis about each cluster and comment those one by one "
   ]
  },
  {
   "cell_type": "code",
   "execution_count": 149,
   "id": "6ceb8eb5",
   "metadata": {},
   "outputs": [],
   "source": [
    "results_df = pd.DataFrame(results)\n",
    "results_df['t/p'] = ['true' if str(idx).startswith('true') else 'predicted' for idx in results_df.index]\n",
    "results_df['class'] = results_df.index.to_series().str.extract(r'(class\\w+)')\n",
    "results_df['class'] = results_df['class'].str[:6]"
   ]
  },
  {
   "cell_type": "code",
   "execution_count": 150,
   "id": "7c2abf24",
   "metadata": {},
   "outputs": [
    {
     "data": {
      "text/html": [
       "<div>\n",
       "<style scoped>\n",
       "    .dataframe tbody tr th:only-of-type {\n",
       "        vertical-align: middle;\n",
       "    }\n",
       "\n",
       "    .dataframe tbody tr th {\n",
       "        vertical-align: top;\n",
       "    }\n",
       "\n",
       "    .dataframe thead th {\n",
       "        text-align: right;\n",
       "    }\n",
       "</style>\n",
       "<table border=\"1\" class=\"dataframe\">\n",
       "  <thead>\n",
       "    <tr style=\"text-align: right;\">\n",
       "      <th></th>\n",
       "      <th>cluster_3</th>\n",
       "      <th>cluster_2</th>\n",
       "      <th>cluster_4</th>\n",
       "      <th>cluster_1</th>\n",
       "      <th>t/p</th>\n",
       "      <th>class</th>\n",
       "    </tr>\n",
       "  </thead>\n",
       "  <tbody>\n",
       "    <tr>\n",
       "      <th>true_class0_percentage</th>\n",
       "      <td>93.975904</td>\n",
       "      <td>0.0</td>\n",
       "      <td>52.941176</td>\n",
       "      <td>0.0</td>\n",
       "      <td>true</td>\n",
       "      <td>class0</td>\n",
       "    </tr>\n",
       "    <tr>\n",
       "      <th>true_class1_percentage</th>\n",
       "      <td>0.000000</td>\n",
       "      <td>25.0</td>\n",
       "      <td>5.882353</td>\n",
       "      <td>0.0</td>\n",
       "      <td>true</td>\n",
       "      <td>class1</td>\n",
       "    </tr>\n",
       "    <tr>\n",
       "      <th>true_class2_percentage</th>\n",
       "      <td>3.614458</td>\n",
       "      <td>25.0</td>\n",
       "      <td>14.705882</td>\n",
       "      <td>0.0</td>\n",
       "      <td>true</td>\n",
       "      <td>class2</td>\n",
       "    </tr>\n",
       "    <tr>\n",
       "      <th>true_class3_percentage</th>\n",
       "      <td>1.204819</td>\n",
       "      <td>0.0</td>\n",
       "      <td>14.705882</td>\n",
       "      <td>0.0</td>\n",
       "      <td>true</td>\n",
       "      <td>class3</td>\n",
       "    </tr>\n",
       "    <tr>\n",
       "      <th>true_class4_percentage</th>\n",
       "      <td>1.204819</td>\n",
       "      <td>50.0</td>\n",
       "      <td>11.764706</td>\n",
       "      <td>100.0</td>\n",
       "      <td>true</td>\n",
       "      <td>class4</td>\n",
       "    </tr>\n",
       "    <tr>\n",
       "      <th>predicted_class0_percentage</th>\n",
       "      <td>96.385542</td>\n",
       "      <td>25.0</td>\n",
       "      <td>76.470588</td>\n",
       "      <td>0.0</td>\n",
       "      <td>predicted</td>\n",
       "      <td>class0</td>\n",
       "    </tr>\n",
       "    <tr>\n",
       "      <th>predicted_class1_percentage</th>\n",
       "      <td>0.000000</td>\n",
       "      <td>0.0</td>\n",
       "      <td>0.000000</td>\n",
       "      <td>0.0</td>\n",
       "      <td>predicted</td>\n",
       "      <td>class1</td>\n",
       "    </tr>\n",
       "    <tr>\n",
       "      <th>predicted_class2_percentage</th>\n",
       "      <td>2.409639</td>\n",
       "      <td>0.0</td>\n",
       "      <td>5.882353</td>\n",
       "      <td>0.0</td>\n",
       "      <td>predicted</td>\n",
       "      <td>class2</td>\n",
       "    </tr>\n",
       "    <tr>\n",
       "      <th>predicted_class3_percentage</th>\n",
       "      <td>0.000000</td>\n",
       "      <td>0.0</td>\n",
       "      <td>11.764706</td>\n",
       "      <td>0.0</td>\n",
       "      <td>predicted</td>\n",
       "      <td>class3</td>\n",
       "    </tr>\n",
       "    <tr>\n",
       "      <th>predicted_class4_percentage</th>\n",
       "      <td>1.204819</td>\n",
       "      <td>75.0</td>\n",
       "      <td>5.882353</td>\n",
       "      <td>100.0</td>\n",
       "      <td>predicted</td>\n",
       "      <td>class4</td>\n",
       "    </tr>\n",
       "  </tbody>\n",
       "</table>\n",
       "</div>"
      ],
      "text/plain": [
       "                             cluster_3  cluster_2  cluster_4  cluster_1  \\\n",
       "true_class0_percentage       93.975904        0.0  52.941176        0.0   \n",
       "true_class1_percentage        0.000000       25.0   5.882353        0.0   \n",
       "true_class2_percentage        3.614458       25.0  14.705882        0.0   \n",
       "true_class3_percentage        1.204819        0.0  14.705882        0.0   \n",
       "true_class4_percentage        1.204819       50.0  11.764706      100.0   \n",
       "predicted_class0_percentage  96.385542       25.0  76.470588        0.0   \n",
       "predicted_class1_percentage   0.000000        0.0   0.000000        0.0   \n",
       "predicted_class2_percentage   2.409639        0.0   5.882353        0.0   \n",
       "predicted_class3_percentage   0.000000        0.0  11.764706        0.0   \n",
       "predicted_class4_percentage   1.204819       75.0   5.882353      100.0   \n",
       "\n",
       "                                   t/p   class  \n",
       "true_class0_percentage            true  class0  \n",
       "true_class1_percentage            true  class1  \n",
       "true_class2_percentage            true  class2  \n",
       "true_class3_percentage            true  class3  \n",
       "true_class4_percentage            true  class4  \n",
       "predicted_class0_percentage  predicted  class0  \n",
       "predicted_class1_percentage  predicted  class1  \n",
       "predicted_class2_percentage  predicted  class2  \n",
       "predicted_class3_percentage  predicted  class3  \n",
       "predicted_class4_percentage  predicted  class4  "
      ]
     },
     "execution_count": 150,
     "metadata": {},
     "output_type": "execute_result"
    }
   ],
   "source": [
    "results_df"
   ]
  },
  {
   "cell_type": "code",
   "execution_count": 151,
   "id": "d8ad23dc",
   "metadata": {},
   "outputs": [
    {
     "data": {
      "image/png": "[encoded data removed]",
      "text/plain": [
       "<Figure size 1000x1000 with 4 Axes>"
      ]
     },
     "metadata": {},
     "output_type": "display_data"
    }
   ],
   "source": [
    "import matplotlib.pyplot as plt\n",
    "\n",
    "columns = results_df.columns.tolist()\n",
    "fig, axs = plt.subplots(ncols=2, nrows = 2, figsize = (10,10))\n",
    "\n",
    "for (i,j), col in zip([(0,0), (0,1), (1,0), (1,1)], columns):\n",
    "    true_df = results_df[results_df['t/p'] == 'true']\n",
    "    pred_df = results_df[results_df['t/p'] == 'predicted']\n",
    "    axs[i,j].plot(true_df['class'], true_df[col], label = \"true\")\n",
    "    axs[i,j].plot(pred_df['class'], pred_df[col], label = \"pred\")\n",
    "    axs[i,j].set_title(col)\n",
    "    axs[i,j].legend()\n",
    "    "
   ]
  },
  {
   "cell_type": "markdown",
   "id": "c248cbad",
   "metadata": {},
   "source": [
    "## 4. Conclusion:\n",
    "\n",
    "Explain your findings and provide reasons for the behaviour."
   ]
  },
  {
   "cell_type": "markdown",
   "id": "d19df8e9",
   "metadata": {},
   "source": [
    "For the clusters 1 and 3: the prediction is very close to the true value. While cluster 3 shows some variations in the predicted values, cluster 1 seems to be overfitted. This might be due to the fact that most of the data were in a single class. \n",
    "\n",
    "For the cluster 4: the prediction seems to follow the actual value to some extend but still has considerable differences.\n",
    "\n",
    "for the cluster 2: the model does not seem to learn for classes 0-2, but performs okay in predicting class 3 and 4. \n",
    "\n",
    "The clustring model has done very well in clustering the data into 1 and 3. Also there are no rows clustered in cluster 0. "
   ]
  }
 ],
 "metadata": {
  "kernelspec": {
   "display_name": "image",
   "language": "python",
   "name": "python3"
  },
  "language_info": {
   "codemirror_mode": {
    "name": "ipython",
    "version": 3
   },
   "file_extension": ".py",
   "mimetype": "text/x-python",
   "name": "python",
   "nbconvert_exporter": "python",
   "pygments_lexer": "ipython3",
   "version": "3.11.5"
  }
 },
 "nbformat": 4,
 "nbformat_minor": 5
}
